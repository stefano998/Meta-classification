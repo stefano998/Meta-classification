{
 "cells": [
  {
   "cell_type": "code",
   "execution_count": null,
   "id": "be615d20",
   "metadata": {
    "id": "be615d20"
   },
   "outputs": [],
   "source": [
    "#import\n",
    "import os\n",
    "import pandas as pd\n",
    "import numpy as np\n",
    "import networkx as nx\n",
    "import matplotlib.pyplot as plt\n",
    "import tensorflow as tf\n",
    "from tensorflow import keras\n",
    "from tensorflow.keras import layers\n",
    "from tensorflow.keras.models import Sequential\n",
    "from tensorflow.keras.layers import Dense\n",
    "from sklearn.model_selection import train_test_split\n",
    "from sklearn.metrics import accuracy_score\n",
    "from sklearn.preprocessing import MinMaxScaler\n",
    "from sklearn.preprocessing import StandardScaler\n",
    "#print(\"Num GPUs Available: \", len(tf.config.list_physical_devices('GPU')))\n",
    "#tf.config.list_physical_devices('GPU')\n",
    "#print(\"Executing eagerly:\",tf.executing_eagerly())"
   ]
  },
  {
   "cell_type": "code",
   "execution_count": null,
   "id": "3f3d8027",
   "metadata": {
    "id": "3f3d8027"
   },
   "outputs": [],
   "source": [
    "#alias options = {'networkA','networkB','networkC','networkD','networkE','networkF'};\n",
    "alias='networkF'\n",
    "aux_filename_36_train=\"_0-2outs_3-6s_50000itr_train\"\n",
    "aux_filename_69_train=\"_0-2outs_6-9s_50000itr_train\"\n",
    "aux_filename_36=\"_0out200000_1-2outs_3-6s_50000itr\"\n",
    "aux_filename_69=\"_0out200000_1-2outs_6-9s_50000itr\"\n",
    "\n",
    "#from google.colab import drive\n",
    "#drive.mount('/content/drive')\n",
    "#caminho=\"/content/drive/MyDrive/Colab_data/\"+alias+\"/\"+alias+\"_\""
   ]
  },
  {
   "cell_type": "code",
   "execution_count": null,
   "id": "c37de329",
   "metadata": {
    "id": "c37de329"
   },
   "outputs": [],
   "source": [
    "#import files to train the meta-classifier\n",
    "caminho=\"C:/Users/Patricia/Desktop/GDrive/art_ip4_sgl/train/\"+alias+\"_\"\n",
    "\n",
    "wAllEL1_pi_sigma_v_36_train = np.loadtxt(caminho+\"wAllEL1_pi_sigma_v\"+aux_filename_36_train)\n",
    "ypredEL1_pi_sigma_v_36_train = np.loadtxt(caminho+\"ypredEL1_pi_sigma_v\"+aux_filename_36_train)\n",
    "wAllELInf_pp_sig_obs_36_train = np.loadtxt(caminho+\"wAllELInf_pp_sig_obs\"+aux_filename_36_train)\n",
    "ypredELInf_pp_sig_obs_36_train = np.loadtxt(caminho+\"ypredELInf_pp_sig_obs\"+aux_filename_36_train)\n",
    "wAllIDS_pp_36_train = np.loadtxt(caminho+\"wAllIDS_pp\"+aux_filename_36_train)\n",
    "ypredIDS_pp_36_train = np.loadtxt(caminho+\"ypredIDS_pp\"+aux_filename_36_train)\n",
    "wAllSLRTMO_pp_36_train = np.loadtxt(caminho+\"wAllSLRTMO_pp\"+aux_filename_36_train)\n",
    "ypredSLRTMO_pp_36_train = np.loadtxt(caminho+\"ypredSLRTMO_pp\"+aux_filename_36_train)\n",
    "outs_positions_36_train = np.loadtxt(caminho+\"outs_positions\"+aux_filename_36_train)\n",
    "\n",
    "wAllEL1_pi_sigma_v_69_train = np.loadtxt(caminho+\"wAllEL1_pi_sigma_v\"+aux_filename_69_train)\n",
    "ypredEL1_pi_sigma_v_69_train = np.loadtxt(caminho+\"ypredEL1_pi_sigma_v\"+aux_filename_69_train)\n",
    "wAllELInf_pp_sig_obs_69_train = np.loadtxt(caminho+\"wAllELInf_pp_sig_obs\"+aux_filename_69_train)\n",
    "ypredELInf_pp_sig_obs_69_train = np.loadtxt(caminho+\"ypredELInf_pp_sig_obs\"+aux_filename_69_train)\n",
    "wAllIDS_pp_69_train = np.loadtxt(caminho+\"wAllIDS_pp\"+aux_filename_69_train)\n",
    "ypredIDS_pp_69_train = np.loadtxt(caminho+\"ypredIDS_pp\"+aux_filename_69_train)\n",
    "wAllSLRTMO_pp_69_train = np.loadtxt(caminho+\"wAllSLRTMO_pp\"+aux_filename_69_train)\n",
    "ypredSLRTMO_pp_69_train = np.loadtxt(caminho+\"ypredSLRTMO_pp\"+aux_filename_69_train)\n",
    "outs_positions_69_train = np.loadtxt(caminho+\"outs_positions\"+aux_filename_69_train)"
   ]
  },
  {
   "cell_type": "code",
   "execution_count": null,
   "id": "5e84464e",
   "metadata": {
    "id": "5e84464e"
   },
   "outputs": [],
   "source": [
    "#import files to test\n",
    "caminho=\"C:/Users/Patricia/Desktop/GDrive/art_ip4_sgl/\"+alias+\"_\"\n",
    "\n",
    "wAllEL1_pi_sigma_v_36 = np.loadtxt(caminho+\"wAllEL1_pi_sigma_v\"+aux_filename_36)\n",
    "ypredEL1_pi_sigma_v_36 = np.loadtxt(caminho+\"ypredEL1_pi_sigma_v\"+aux_filename_36)\n",
    "wAllELInf_pp_sig_obs_36 = np.loadtxt(caminho+\"wAllELInf_pp_sig_obs\"+aux_filename_36)\n",
    "ypredELInf_pp_sig_obs_36 = np.loadtxt(caminho+\"ypredELInf_pp_sig_obs\"+aux_filename_36)\n",
    "wAllIDS_pp_36 = np.loadtxt(caminho+\"wAllIDS_pp\"+aux_filename_36)\n",
    "ypredIDS_pp_36 = np.loadtxt(caminho+\"ypredIDS_pp\"+aux_filename_36)\n",
    "wAllSLRTMO_pp_36 = np.loadtxt(caminho+\"wAllSLRTMO_pp\"+aux_filename_36)\n",
    "ypredSLRTMO_pp_36 = np.loadtxt(caminho+\"ypredSLRTMO_pp\"+aux_filename_36)\n",
    "outs_positions_36 = np.loadtxt(caminho+\"outs_positions\"+aux_filename_36)\n",
    "\n",
    "wAllEL1_pi_sigma_v_69 = np.loadtxt(caminho+\"wAllEL1_pi_sigma_v\"+aux_filename_69)\n",
    "ypredEL1_pi_sigma_v_69 = np.loadtxt(caminho+\"ypredEL1_pi_sigma_v\"+aux_filename_69)\n",
    "wAllELInf_pp_sig_obs_69 = np.loadtxt(caminho+\"wAllELInf_pp_sig_obs\"+aux_filename_69)\n",
    "ypredELInf_pp_sig_obs_69 = np.loadtxt(caminho+\"ypredELInf_pp_sig_obs\"+aux_filename_69)\n",
    "wAllIDS_pp_69 = np.loadtxt(caminho+\"wAllIDS_pp\"+aux_filename_69)\n",
    "ypredIDS_pp_69 = np.loadtxt(caminho+\"ypredIDS_pp\"+aux_filename_69)\n",
    "wAllSLRTMO_pp_69 = np.loadtxt(caminho+\"wAllSLRTMO_pp\"+aux_filename_69)\n",
    "ypredSLRTMO_pp_69 = np.loadtxt(caminho+\"ypredSLRTMO_pp\"+aux_filename_69)\n",
    "outs_positions_69 = np.loadtxt(caminho+\"outs_positions\"+aux_filename_69)"
   ]
  },
  {
   "cell_type": "code",
   "execution_count": null,
   "id": "66173246",
   "metadata": {
    "colab": {
     "base_uri": "https://localhost:8080/"
    },
    "executionInfo": {
     "elapsed": 383,
     "status": "ok",
     "timestamp": 1652121338793,
     "user": {
      "displayName": "STEFANO SURACI",
      "userId": "01042017575376796343"
     },
     "user_tz": 180
    },
    "id": "66173246",
    "outputId": "60f1f792-f77f-4ed4-c3dd-dab21b7a1aaf"
   },
   "outputs": [
    {
     "name": "stdout",
     "output_type": "stream",
     "text": [
      "(150000, 240) (120000, 30) (300000, 240) (300000, 30) (200000, 240) (200000, 30)\n"
     ]
    }
   ],
   "source": [
    "#create sets of trainning, Ev, validation, test\n",
    "qtd_graphs = 30000\n",
    "\n",
    "#######train\n",
    "aux36_train = (ypredIDS_pp_36_train,wAllIDS_pp_36_train,\n",
    "             ypredEL1_pi_sigma_v_36_train,wAllEL1_pi_sigma_v_36_train,\n",
    "             ypredELInf_pp_sig_obs_36_train,wAllELInf_pp_sig_obs_36_train,\n",
    "             ypredSLRTMO_pp_36_train,wAllSLRTMO_pp_36_train)########################## tirar redun sfc\n",
    "obs_36_train = np.concatenate(aux36_train,axis=1)\n",
    "label_36_train = outs_positions_36_train\n",
    "\n",
    "aux69_train = (ypredIDS_pp_69_train,wAllIDS_pp_69_train,\n",
    "             ypredEL1_pi_sigma_v_69_train,wAllEL1_pi_sigma_v_69_train,\n",
    "             ypredELInf_pp_sig_obs_69_train,wAllELInf_pp_sig_obs_69_train,\n",
    "             ypredSLRTMO_pp_69_train,wAllSLRTMO_pp_69_train)########################## tirar redun sfc\n",
    "obs_69_train = np.concatenate(aux69_train,axis=1)\n",
    "label_69_train = outs_positions_69_train\n",
    "\n",
    "#####test\n",
    "aux36 = (ypredIDS_pp_36,wAllIDS_pp_36,\n",
    "             ypredEL1_pi_sigma_v_36,wAllEL1_pi_sigma_v_36,\n",
    "             ypredELInf_pp_sig_obs_36,wAllELInf_pp_sig_obs_36,\n",
    "             ypredSLRTMO_pp_36,wAllSLRTMO_pp_36)########################## tirar redun sfc\n",
    "X_test36 = np.concatenate(aux36,axis=1)\n",
    "y_test36 = outs_positions_36\n",
    "\n",
    "aux69 = (ypredIDS_pp_69,wAllIDS_pp_69,\n",
    "             ypredEL1_pi_sigma_v_69,wAllEL1_pi_sigma_v_69,\n",
    "             ypredELInf_pp_sig_obs_69,wAllELInf_pp_sig_obs_69,\n",
    "             ypredSLRTMO_pp_69,wAllSLRTMO_pp_69)########################## tirar redun sfc\n",
    "X_test69 = np.concatenate(aux69,axis=1)\n",
    "y_test69 = outs_positions_69\n",
    "\n",
    "######Ev\n",
    "aux=sum(np.transpose(y_test36))==0        ##### era y_test (usando o \"local\" da fç..)\n",
    "X_Ev = X_test36[aux,:]\n",
    "y_Ev = y_test36[aux,:]\n",
    "\n",
    "\n",
    "prop2out = 1.0 \n",
    "X_train36 = np.concatenate((obs_36_train[0:0+qtd_graphs,:],obs_36_train[50000:50000+qtd_graphs,:],\n",
    "                         obs_36_train[100000:100000+int(qtd_graphs*prop2out),:]),axis=0)\n",
    "y_train36 = np.concatenate((label_36_train[0:0+qtd_graphs,:],label_36_train[50000:50000+qtd_graphs,:],\n",
    "                         label_36_train[100000:100000+int(qtd_graphs*prop2out),:]),axis=0)\n",
    "X_train69 = np.concatenate((obs_69_train[50000:50000+qtd_graphs,:],\n",
    "                         obs_69_train[100000:100000+int(qtd_graphs*prop2out),:]),axis=0)\n",
    "y_train69 = np.concatenate((label_69_train[50000:50000+qtd_graphs,:],\n",
    "                         label_69_train[100000:100000+int(qtd_graphs*prop2out),:]),axis=0)\n",
    "X_val36 = np.concatenate((obs_36_train[30000:50000,:],obs_36_train[80000:100000,:],obs_36_train[130000:150000,:]),axis=0)\n",
    "X_val69 = np.concatenate((obs_69_train[30000:50000,:],obs_69_train[80000:100000,:],obs_69_train[130000:150000,:]),axis=0)\n",
    "y_val36 = np.concatenate((label_36_train[30000:50000,:],label_36_train[80000:100000,:],label_36_train[130000:150000,:]),axis=0)\n",
    "y_val69 = np.concatenate((label_69_train[30000:50000,:],label_69_train[80000:100000,:],label_69_train[130000:150000,:]),axis=0)\n",
    "\n",
    "\n",
    "X_train = np.concatenate((X_train36, X_train69),axis=0)\n",
    "y_train = np.concatenate((y_train36, y_train69),axis=0)\n",
    "\n",
    "scaler_train = MinMaxScaler() #StandardScaler() #MinMaxScaler()\n",
    "X_train = scaler_train.fit_transform(X_train)\n",
    "X_val36 = scaler_train.transform(X_val36)\n",
    "X_val69 = scaler_train.transform(X_val69)\n",
    "X_test36 = scaler_train.transform(X_test36)\n",
    "X_test69 = scaler_train.transform(X_test69)\n",
    "X_Ev = scaler_train.transform(X_Ev)\n",
    "\n",
    "X_val = np.concatenate((X_val36, X_val69),axis=0)\n",
    "y_val = np.concatenate((y_val36, y_val69),axis=0)\n",
    "X_test = np.concatenate((X_test36, X_test69),axis=0)\n",
    "y_test = np.concatenate((y_test36, y_test69),axis=0)\n",
    "\n",
    "\n",
    "print(X_train.shape,y_val.shape,X_test36.shape,y_test36.shape,X_Ev.shape,y_Ev.shape)"
   ]
  },
  {
   "cell_type": "code",
   "execution_count": null,
   "id": "c11b96ea",
   "metadata": {
    "id": "c11b96ea"
   },
   "outputs": [],
   "source": [
    "#function to evaluate the acc of the meta-classifier\n",
    "def clf_eval(y_pred, y_val):\n",
    "  acc = 100*accuracy_score(y_pred, y_val)\n",
    "  print('Accuracy: {}'.format(acc))\n",
    "  if out3 == 1:\n",
    "      aux=sum(np.transpose(y_val))==3\n",
    "      acc3=100*accuracy_score(y_val[aux,:], y_pred[aux,:])\n",
    "      print('Accuracy 3 out: {}'.format(acc3))\n",
    "  else:\n",
    "      aux=sum(np.transpose(y_val))==2\n",
    "      acc2=100*accuracy_score(y_val[aux,:], y_pred[aux,:])\n",
    "      print('Accuracy 2 out: {}'.format(acc2))\n",
    "      aux=sum(np.transpose(y_val))==1\n",
    "      acc1=100*accuracy_score(y_val[aux,:], y_pred[aux,:])\n",
    "      print('Accuracy 1 out: {}'.format(acc1))\n",
    "  aux=sum(np.transpose(y_val))==0\n",
    "  acc0=100*accuracy_score(y_val[aux,:], y_pred[aux,:])\n",
    "  print('Accuracy 0 out: {}'.format(acc0))\n",
    "  if out3 == 0:\n",
    "    return [acc1, acc2]"
   ]
  },
  {
   "cell_type": "code",
   "execution_count": null,
   "id": "512c463c",
   "metadata": {
    "id": "512c463c"
   },
   "outputs": [],
   "source": [
    "#function to false alarm control\n",
    "def fp_control(model,FP, X_test, y_test):\n",
    "  probs = np.array(model.predict(X_Ev))   ### era X_test (usando o \"local\" da fç..)\n",
    "  maxs = np.sort(np.amax(probs, axis=1))\n",
    "  position = int((1-FP)*maxs.shape[0])\n",
    "  threshold = maxs[position]\n",
    "\n",
    "  probs = np.array(model.predict(X_test))\n",
    "  preds = (np.where(probs[:,:] > threshold, 1, 0))\n",
    "  label = y_test\n",
    "  acc =clf_eval(preds,label)\n",
    "  return acc"
   ]
  },
  {
   "cell_type": "code",
   "execution_count": null,
   "id": "2f23b92f",
   "metadata": {
    "executionInfo": {
     "elapsed": 6,
     "status": "ok",
     "timestamp": 1652121524419,
     "user": {
      "displayName": "STEFANO SURACI",
      "userId": "01042017575376796343"
     },
     "user_tz": 180
    },
    "id": "2f23b92f",
    "outputId": "48c41248-1976-4aed-cb33-3338c9de68bb"
   },
   "outputs": [
    {
     "name": "stdout",
     "output_type": "stream",
     "text": [
      "Model: \"sequential_5\"\n",
      "_________________________________________________________________\n",
      "Layer (type)                 Output Shape              Param #   \n",
      "=================================================================\n",
      "dense_15 (Dense)             (None, 160)               38560     \n",
      "_________________________________________________________________\n",
      "batch_normalization_10 (Batc (None, 160)               640       \n",
      "_________________________________________________________________\n",
      "dense_16 (Dense)             (None, 80)                12880     \n",
      "_________________________________________________________________\n",
      "batch_normalization_11 (Batc (None, 80)                320       \n",
      "_________________________________________________________________\n",
      "dense_17 (Dense)             (None, 30)                2430      \n",
      "=================================================================\n",
      "Total params: 54,830\n",
      "Trainable params: 54,350\n",
      "Non-trainable params: 480\n",
      "_________________________________________________________________\n"
     ]
    },
    {
     "data": {
      "text/plain": [
       "<tensorflow.python.keras.callbacks.History at 0x1cddb92be50>"
      ]
     },
     "execution_count": 83,
     "metadata": {},
     "output_type": "execute_result"
    }
   ],
   "source": [
    "#keras MLP\n",
    "hidden1 = int(X_train.shape[1]*(2/3))\n",
    "hidden2 = int(X_train.shape[1]*(1/3))\n",
    "#hidden3 = int(X_train.shape[1]*(1/3))\n",
    "#hidden4 = int(X_train.shape[1]*(1/3))\n",
    "\n",
    "# Create an early stopping callback.\n",
    "early_stopping = keras.callbacks.EarlyStopping(monitor=\"val_loss\", min_delta=0.0001,patience=10, restore_best_weights=True)\n",
    "\n",
    "# define the keras model\n",
    "tf.random.set_seed(1234) #1234\n",
    "#dropout_rate = 0.1\n",
    "model = Sequential()\n",
    "model.add(Dense(hidden1, input_dim=X_train.shape[1], activation='relu'))\n",
    "model.add(tf.keras.layers.BatchNormalization())\n",
    "#model.add(tf.keras.layers.Dropout(dropout_rate))\n",
    "model.add(Dense(hidden2, activation='relu'))\n",
    "model.add(tf.keras.layers.BatchNormalization())\n",
    "#model.add(Dense(hidden3, activation='relu'))\n",
    "#model.add(tf.keras.layers.BatchNormalization())\n",
    "#model.add(Dense(hidden4, activation='relu'))\n",
    "\n",
    "model.add(Dense(units=y_train.shape[1], activation='sigmoid'))   #sigmoid\n",
    "\n",
    "# compile the keras model\n",
    "model.compile(loss='binary_crossentropy', optimizer=keras.optimizers.Adam(learning_rate=0.001)) #default:0.001\n",
    "model.summary()\n",
    "\n",
    "# fit the keras model on the dataset\n",
    "model.fit(X_train, y_train, epochs=200, batch_size=32,#int(X_train.shape[0]/40),\n",
    "          verbose=0,callbacks=[early_stopping],validation_data=(X_val,y_val))#validation_split=0.1)"
   ]
  },
  {
   "cell_type": "code",
   "execution_count": null,
   "id": "2e2a1591",
   "metadata": {
    "colab": {
     "base_uri": "https://localhost:8080/",
     "height": 450
    },
    "executionInfo": {
     "elapsed": 636,
     "status": "error",
     "timestamp": 1652123157614,
     "user": {
      "displayName": "STEFANO SURACI",
      "userId": "01042017575376796343"
     },
     "user_tz": 180
    },
    "id": "2e2a1591",
    "outputId": "f2a12274-6df4-4fca-fcee-e60c37964b5e",
    "scrolled": true
   },
   "outputs": [
    {
     "name": "stdout",
     "output_type": "stream",
     "text": [
      "Cj de Validacao:\n",
      "Accuracy: 61.431666666666665\n",
      "Accuracy 2 out: 32.405\n",
      "Accuracy 1 out: 57.145\n",
      "Accuracy 0 out: 94.745\n",
      "Accuracy: 90.95\n",
      "Accuracy 2 out: 85.34\n",
      "Accuracy 1 out: 92.765\n",
      "Accuracy 0 out: 94.745\n",
      "MSR: 66.91375\n",
      "Cj de Teste:\n",
      "Accuracy: 77.947\n",
      "Accuracy 2 out: 31.669999999999998\n",
      "Accuracy 1 out: 56.010000000000005\n",
      "Accuracy 0 out: 95.0005\n",
      "Accuracy: 92.865\n",
      "Accuracy 2 out: 84.77799999999999\n",
      "Accuracy 1 out: 92.41\n",
      "Accuracy 0 out: 95.0005\n",
      "MSR: 66.217\n"
     ]
    }
   ],
   "source": [
    "out3 = 0\n",
    "print(\"Cj de Validacao:\")\n",
    "acc36 = fp_control(model, 0.05, X_val36, y_val36)\n",
    "acc69 = fp_control(model, 0.05, X_val69, y_val69)\n",
    "print(\"MSR:\", (acc36[0] + acc36[1] + acc69[0] + acc69[1])/4)\n",
    "print(\"Cj de Teste:\")\n",
    "acc36 = fp_control(model, 0.05, X_test36, y_test36)\n",
    "acc69 = fp_control(model, 0.05, X_test69, y_test69)\n",
    "print(\"MSR:\", (acc36[0] + acc36[1] + acc69[0] + acc69[1])/4)"
   ]
  },
  {
   "cell_type": "code",
   "execution_count": null,
   "id": "e28d5120",
   "metadata": {
    "id": "e28d5120"
   },
   "outputs": [],
   "source": [
    "aux_filename_915=\"_0-2outs_9-15s_10000itr\"\n",
    "aux_filename_36_3out=\"_0-3outs_3-6s_10000itr\"\n",
    "aux_filename_69_3out=\"_0-3outs_6-9s_10000itr\""
   ]
  },
  {
   "cell_type": "code",
   "execution_count": null,
   "id": "4ae84891",
   "metadata": {
    "id": "4ae84891"
   },
   "outputs": [],
   "source": [
    "caminho=caminho=\"C:/Users/Patricia/Desktop/GDrive/art_ip4_sgl/9-15/\"+alias+\"_\"\n",
    "\n",
    "wAllEL1_pi_sigma_v_915 = np.loadtxt(caminho+\"wAllEL1_pi_sigma_v\"+aux_filename_915)\n",
    "ypredEL1_pi_sigma_v_915 = np.loadtxt(caminho+\"ypredEL1_pi_sigma_v\"+aux_filename_915)\n",
    "wAllELInf_pp_sig_obs_915 = np.loadtxt(caminho+\"wAllELInf_pp_sig_obs\"+aux_filename_915)\n",
    "ypredELInf_pp_sig_obs_915 = np.loadtxt(caminho+\"ypredELInf_pp_sig_obs\"+aux_filename_915)\n",
    "wAllIDS_pp_915 = np.loadtxt(caminho+\"wAllIDS_pp\"+aux_filename_915)\n",
    "ypredIDS_pp_915 = np.loadtxt(caminho+\"ypredIDS_pp\"+aux_filename_915)\n",
    "wAllSLRTMO_pp_915 = np.loadtxt(caminho+\"wAllSLRTMO_pp\"+aux_filename_915)\n",
    "ypredSLRTMO_pp_915 = np.loadtxt(caminho+\"ypredSLRTMO_pp\"+aux_filename_915)\n",
    "outs_positions_915 = np.loadtxt(caminho+\"outs_positions\"+aux_filename_915)"
   ]
  },
  {
   "cell_type": "code",
   "execution_count": null,
   "id": "5c4e918f",
   "metadata": {
    "id": "5c4e918f"
   },
   "outputs": [],
   "source": [
    "caminho=caminho=\"C:/Users/Patricia/Desktop/GDrive/art_ip4_sgl/3outs/\"+alias+\"_\"\n",
    "\n",
    "wAllEL1_pi_sigma_v_36_3out = np.loadtxt(caminho+\"wAllEL1_pi_sigma_v\"+aux_filename_36_3out)\n",
    "ypredEL1_pi_sigma_v_36_3out = np.loadtxt(caminho+\"ypredEL1_pi_sigma_v\"+aux_filename_36_3out)\n",
    "wAllELInf_pp_sig_obs_36_3out = np.loadtxt(caminho+\"wAllELInf_pp_sig_obs\"+aux_filename_36_3out)\n",
    "ypredELInf_pp_sig_obs_36_3out = np.loadtxt(caminho+\"ypredELInf_pp_sig_obs\"+aux_filename_36_3out)\n",
    "wAllIDS_pp_36_3out = np.loadtxt(caminho+\"wAllIDS_pp\"+aux_filename_36_3out)\n",
    "ypredIDS_pp_36_3out = np.loadtxt(caminho+\"ypredIDS_pp\"+aux_filename_36_3out)\n",
    "wAllSLRTMO_pp_36_3out = np.loadtxt(caminho+\"wAllSLRTMO_pp\"+aux_filename_36_3out)\n",
    "ypredSLRTMO_pp_36_3out = np.loadtxt(caminho+\"ypredSLRTMO_pp\"+aux_filename_36_3out)\n",
    "outs_positions_36_3out = np.loadtxt(caminho+\"outs_positions\"+aux_filename_36_3out)\n",
    "\n",
    "wAllEL1_pi_sigma_v_69_3out = np.loadtxt(caminho+\"wAllEL1_pi_sigma_v\"+aux_filename_69_3out)\n",
    "ypredEL1_pi_sigma_v_69_3out = np.loadtxt(caminho+\"ypredEL1_pi_sigma_v\"+aux_filename_69_3out)\n",
    "wAllELInf_pp_sig_obs_69_3out = np.loadtxt(caminho+\"wAllELInf_pp_sig_obs\"+aux_filename_69_3out)\n",
    "ypredELInf_pp_sig_obs_69_3out = np.loadtxt(caminho+\"ypredELInf_pp_sig_obs\"+aux_filename_69_3out)\n",
    "wAllIDS_pp_69_3out = np.loadtxt(caminho+\"wAllIDS_pp\"+aux_filename_69_3out)\n",
    "ypredIDS_pp_69_3out = np.loadtxt(caminho+\"ypredIDS_pp\"+aux_filename_69_3out)\n",
    "wAllSLRTMO_pp_69_3out = np.loadtxt(caminho+\"wAllSLRTMO_pp\"+aux_filename_69_3out)\n",
    "ypredSLRTMO_pp_69_3out = np.loadtxt(caminho+\"ypredSLRTMO_pp\"+aux_filename_69_3out)\n",
    "outs_positions_69_3out = np.loadtxt(caminho+\"outs_positions\"+aux_filename_69_3out)"
   ]
  },
  {
   "cell_type": "code",
   "execution_count": null,
   "id": "97cfedb3",
   "metadata": {
    "id": "97cfedb3"
   },
   "outputs": [],
   "source": [
    "aux69_train = (ypredIDS_pp_69_train,wAllIDS_pp_69_train,\n",
    "             ypredEL1_pi_sigma_v_69_train,wAllEL1_pi_sigma_v_69_train,\n",
    "             ypredELInf_pp_sig_obs_69_train,wAllELInf_pp_sig_obs_69_train,\n",
    "             ypredSLRTMO_pp_69_train,wAllSLRTMO_pp_69_train)########################## tirar redun sfc\n",
    "\n",
    "######################### 9-15s\n",
    "aux915 = (ypredIDS_pp_915,wAllIDS_pp_915,\n",
    "             ypredEL1_pi_sigma_v_915,wAllEL1_pi_sigma_v_915,\n",
    "             ypredELInf_pp_sig_obs_915,wAllELInf_pp_sig_obs_915,\n",
    "             ypredSLRTMO_pp_915,wAllSLRTMO_pp_915)########################## tirar redun sfc\n",
    "X_test915 = np.concatenate(aux915,axis=1)\n",
    "y_test915 = outs_positions_915\n",
    "X_test915 = scaler_train.transform(X_test915)\n",
    "\n",
    "######################## 3outs\n",
    "aux36_3out = (ypredIDS_pp_36_3out,wAllIDS_pp_36_3out,\n",
    "             ypredEL1_pi_sigma_v_36_3out,wAllEL1_pi_sigma_v_36_3out,\n",
    "             ypredELInf_pp_sig_obs_36_3out,wAllELInf_pp_sig_obs_36_3out,\n",
    "             ypredSLRTMO_pp_36_3out,wAllSLRTMO_pp_36_3out)########################## tirar redun sfc\n",
    "X_test36_3out = np.concatenate(aux36_3out,axis=1)\n",
    "y_test36_3out = outs_positions_36_3out\n",
    "X_test36_3out = scaler_train.transform(X_test36_3out)\n",
    "\n",
    "aux69_3out = (ypredIDS_pp_69_3out,wAllIDS_pp_69_3out,\n",
    "             ypredEL1_pi_sigma_v_69_3out,wAllEL1_pi_sigma_v_69_3out,\n",
    "             ypredELInf_pp_sig_obs_69_3out,wAllELInf_pp_sig_obs_69_3out,\n",
    "             ypredSLRTMO_pp_69_3out,wAllSLRTMO_pp_69_3out)########################## tirar redun sfc\n",
    "X_test69_3out = np.concatenate(aux69_3out,axis=1)\n",
    "y_test69_3out = outs_positions_69_3out\n",
    "X_test69_3out = scaler_train.transform(X_test69_3out)"
   ]
  },
  {
   "cell_type": "code",
   "execution_count": null,
   "id": "58d48cb9",
   "metadata": {
    "id": "58d48cb9",
    "outputId": "749364fb-72ae-49bd-a235-64b671399618"
   },
   "outputs": [
    {
     "name": "stdout",
     "output_type": "stream",
     "text": [
      "9-15:\n",
      "Accuracy: 94.43666666666667\n",
      "Accuracy 2 out: 91.38\n",
      "Accuracy 1 out: 97.27\n",
      "Accuracy 0 out: 94.66\n",
      "3outs:\n",
      "Accuracy: 52.05\n",
      "Accuracy 3 out: 9.139999999999999\n",
      "Accuracy 0 out: 94.96\n",
      "Accuracy: 75.25500000000001\n",
      "Accuracy 3 out: 55.55\n",
      "Accuracy 0 out: 94.96\n"
     ]
    }
   ],
   "source": [
    "#9-15\n",
    "print(\"9-15:\")\n",
    "acc = fp_control(model,0.05, X_test915, y_test915)\n",
    "\n",
    "#3outs\n",
    "print(\"3outs:\")\n",
    "out3 = 1\n",
    "acc = fp_control(model,0.05, X_test36_3out, y_test36_3out)\n",
    "acc = fp_control(model,0.05, X_test69_3out, y_test69_3out)\n",
    "out3 = 0"
   ]
  }
 ],
 "metadata": {
  "accelerator": "GPU",
  "colab": {
   "provenance": []
  },
  "kernelspec": {
   "display_name": "Python 3",
   "language": "python",
   "name": "python3"
  },
  "language_info": {
   "codemirror_mode": {
    "name": "ipython",
    "version": 3
   },
   "file_extension": ".py",
   "mimetype": "text/x-python",
   "name": "python",
   "nbconvert_exporter": "python",
   "pygments_lexer": "ipython3",
   "version": "3.8.8"
  }
 },
 "nbformat": 4,
 "nbformat_minor": 5
}
